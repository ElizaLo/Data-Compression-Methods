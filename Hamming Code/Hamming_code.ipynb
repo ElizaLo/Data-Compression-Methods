{
  "nbformat": 4,
  "nbformat_minor": 0,
  "metadata": {
    "colab": {
      "name": "Hamming_code.ipynb",
      "version": "0.3.2",
      "provenance": [],
      "include_colab_link": true
    },
    "kernelspec": {
      "name": "python3",
      "display_name": "Python 3"
    }
  },
  "cells": [
    {
      "cell_type": "markdown",
      "metadata": {
        "id": "view-in-github",
        "colab_type": "text"
      },
      "source": [
        "<a href=\"https://colab.research.google.com/github/ElizaLo/Encoding/blob/master/Hamming%20Code/Hamming_code.ipynb\" target=\"_parent\"><img src=\"https://colab.research.google.com/assets/colab-badge.svg\" alt=\"Open In Colab\"/></a>"
      ]
    },
    {
      "cell_type": "markdown",
      "metadata": {
        "id": "XETmhki5bLw0",
        "colab_type": "text"
      },
      "source": [
        "#Hamming code"
      ]
    },
    {
      "cell_type": "code",
      "metadata": {
        "id": "muTA7_lZanF4",
        "colab_type": "code",
        "colab": {}
      },
      "source": [
        "import random"
      ],
      "execution_count": 0,
      "outputs": []
    },
    {
      "cell_type": "code",
      "metadata": {
        "id": "N3Is2M0n9FZJ",
        "colab_type": "code",
        "colab": {}
      },
      "source": [
        "# coding block length\n",
        "BLOCK_LENGTH = 8\n",
        "\n",
        "# check block length\n",
        "assert not BLOCK_LENGTH % 8, 'Block length must be a multiple of 8'\n",
        "\n",
        "# calculation of check bits / error-correcting bits, (вычисление контрольных бит)\n",
        "CHECK_BITS = [i for i in range(1, BLOCK_LENGTH + 1) if not i & (i - 1)]"
      ],
      "execution_count": 0,
      "outputs": []
    },
    {
      "cell_type": "markdown",
      "metadata": {
        "id": "xE4TUG1wEX6M",
        "colab_type": "text"
      },
      "source": [
        "***Convert characters to binary format***\n",
        "\n",
        "> *Преобразование символов в бинарный формат*\n",
        "\n",
        "\n",
        "\n"
      ]
    },
    {
      "cell_type": "code",
      "metadata": {
        "id": "I3mrLrm3CPbJ",
        "colab_type": "code",
        "colab": {}
      },
      "source": [
        "def chars_to_bin(chars):\n",
        "    \"\"\"\n",
        "    Convert characters to binary format\n",
        "    \"\"\"\n",
        "    assert not len(chars) * 8 % BLOCK_LENGTH, 'The length of the encoded data must be a multiple of the length of the coding block'\n",
        "    return ''.join([bin(ord(c))[2:].zfill(8) for c in chars])"
      ],
      "execution_count": 0,
      "outputs": []
    },
    {
      "cell_type": "markdown",
      "metadata": {
        "id": "LSGQVDKXGzcS",
        "colab_type": "text"
      },
      "source": [
        "***Block output of binary data***\n",
        "\n",
        "> *Поблочный вывод бинарных данных*\n"
      ]
    },
    {
      "cell_type": "code",
      "metadata": {
        "id": "5Og5u7WLEDio",
        "colab_type": "code",
        "colab": {}
      },
      "source": [
        "def block_iterator(text_bin, block_size=BLOCK_LENGTH):\n",
        "    \"\"\"\n",
        "    Block output of binary data (Поблочный вывод бинарных данных)\n",
        "    \"\"\"\n",
        "    for i in range(len(text_bin)):\n",
        "        if not i % block_size:\n",
        "            yield text_bin[i:i + block_size]"
      ],
      "execution_count": 0,
      "outputs": []
    },
    {
      "cell_type": "markdown",
      "metadata": {
        "id": "q3jkSBWUJVyZ",
        "colab_type": "text"
      },
      "source": [
        "***Retrieving control (error-correcting) bit information from a binary data block***\n",
        "\n",
        "> *Получение информации о контрольных битах из бинарного блока данных*\n",
        "\n"
      ]
    },
    {
      "cell_type": "code",
      "metadata": {
        "id": "viajWXlJIJgv",
        "colab_type": "code",
        "colab": {}
      },
      "source": [
        "def get_check_bits_data(value_bin):\n",
        "    \"\"\"\n",
        "    Retrieving control bit / error-correcting bits information from a binary data block\n",
        "    \"\"\"\n",
        "    check_bits_count_map = {k: 0 for k in CHECK_BITS}\n",
        "    for index, value in enumerate(value_bin, 1):\n",
        "        if int(value):\n",
        "            bin_char_list = list(bin(index)[2:].zfill(8))\n",
        "            bin_char_list.reverse()\n",
        "            for degree in [2 ** int(i) for i, value in enumerate(bin_char_list) if int(value)]:\n",
        "                check_bits_count_map[degree] += 1\n",
        "    check_bits_value_map = {}\n",
        "    for check_bit, count in check_bits_count_map.items():\n",
        "        check_bits_value_map[check_bit] = 0 if not count % 2 else 1\n",
        "    return check_bits_value_map"
      ],
      "execution_count": 0,
      "outputs": []
    },
    {
      "cell_type": "markdown",
      "metadata": {
        "id": "1hdDNfo_L2aP",
        "colab_type": "text"
      },
      "source": [
        "***Add empty control (error-correcting) bits to binary block***\n",
        "\n",
        "> *Добавить в бинарный блок \"пустые\" контрольные биты*\n",
        "\n"
      ]
    },
    {
      "cell_type": "code",
      "metadata": {
        "id": "-ycwq8J9JjVo",
        "colab_type": "code",
        "colab": {}
      },
      "source": [
        "def set_empty_check_bits(value_bin):\n",
        "    \"\"\"\n",
        "    Add empty control (error-correcting) bits to binary block\n",
        "    \"\"\"\n",
        "    for bit in CHECK_BITS:\n",
        "        value_bin = value_bin[:bit - 1] + '0' + value_bin[bit - 1:]\n",
        "    return value_bin"
      ],
      "execution_count": 0,
      "outputs": []
    },
    {
      "cell_type": "markdown",
      "metadata": {
        "id": "msneElHrY0Ww",
        "colab_type": "text"
      },
      "source": [
        "***Set the control (error-correcting) bits***\n",
        "\n",
        ">*Установить значения контрольных бит*\n",
        "\n"
      ]
    },
    {
      "cell_type": "code",
      "metadata": {
        "id": "HU9qqx_HMPGT",
        "colab_type": "code",
        "colab": {}
      },
      "source": [
        "def set_check_bits(value_bin):\n",
        "    \"\"\"\n",
        "    Set the control (error-correcting) bits\n",
        "    \"\"\"\n",
        "    value_bin = set_empty_check_bits(value_bin)\n",
        "    check_bits_data = get_check_bits_data(value_bin)\n",
        "    for check_bit, bit_value in check_bits_data.items():\n",
        "        value_bin = '{0}{1}{2}'.format(\n",
        "            value_bin[:check_bit - 1], bit_value, value_bin[check_bit:])\n",
        "    return value_bin"
      ],
      "execution_count": 0,
      "outputs": []
    },
    {
      "cell_type": "markdown",
      "metadata": {
        "id": "itHot9R4ZgPE",
        "colab_type": "text"
      },
      "source": [
        "***Get information about control (error-correcting) bits from a binary data block***\n",
        "\n",
        "> *Получить информацию о контрольных битах из блока бинарных данных*\n",
        "\n"
      ]
    },
    {
      "cell_type": "code",
      "metadata": {
        "id": "xJTk4SaKZgrH",
        "colab_type": "code",
        "colab": {}
      },
      "source": [
        "def get_check_bits(value_bin):\n",
        "    \"\"\"\n",
        "    Get information about control (error-correcting) bits from a binary data block\n",
        "    \"\"\"\n",
        "    check_bits = {}\n",
        "    for index, value in enumerate(value_bin, 1):\n",
        "        if index in CHECK_BITS:\n",
        "            check_bits[index] = int(value)\n",
        "    return check_bits"
      ],
      "execution_count": 0,
      "outputs": []
    },
    {
      "cell_type": "markdown",
      "metadata": {
        "id": "LbqzRyZWZzfH",
        "colab_type": "text"
      },
      "source": [
        "***Exclude control (error-correcting) bits information from binary data block***\n",
        "\n",
        "> *Исключить информацию о контрольных битах из блока бинарных данных*\n",
        "\n"
      ]
    },
    {
      "cell_type": "code",
      "metadata": {
        "id": "J-D07G5bZyfl",
        "colab_type": "code",
        "colab": {}
      },
      "source": [
        "def exclude_check_bits(value_bin):\n",
        "    \"\"\"\n",
        "    Exclude control (error-correcting) bits information from binary data block\n",
        "    \"\"\"\n",
        "    clean_value_bin = ''\n",
        "    for index, char_bin in enumerate(list(value_bin), 1):\n",
        "        if index not in CHECK_BITS:\n",
        "            clean_value_bin += char_bin\n",
        "\n",
        "    return clean_value_bin"
      ],
      "execution_count": 0,
      "outputs": []
    },
    {
      "cell_type": "markdown",
      "metadata": {
        "id": "5cJuxJMDc86o",
        "colab_type": "text"
      },
      "source": [
        "***Make a mistake in the binary data blocks***\n",
        "\n",
        "\n",
        "> *Допустить ошибку в блоках бинарных данных*\n",
        "\n"
      ]
    },
    {
      "cell_type": "code",
      "metadata": {
        "id": "JukPR3kUbf6O",
        "colab_type": "code",
        "colab": {}
      },
      "source": [
        "def set_errors(encoded):\n",
        "    \"\"\"\n",
        "    Make a mistake in the binary data blocks\n",
        "    \"\"\"\n",
        "    result = ''\n",
        "    for block in block_iterator(encoded, BLOCK_LENGTH + len(CHECK_BITS)):\n",
        "        num_bit = random.randint(1, len(block))\n",
        "        block = '{0}{1}{2}'.format(block[:num_bit - 1], int(block[num_bit - 1]) ^ 1, block[num_bit:])\n",
        "        result += (block)\n",
        "    return result"
      ],
      "execution_count": 0,
      "outputs": []
    },
    {
      "cell_type": "markdown",
      "metadata": {
        "id": "ZS2wIAIId-c6",
        "colab_type": "text"
      },
      "source": [
        "***Check and fix errors in the binary data block***\n",
        "\n",
        "> *Проверка и исправление ошибки в блоке бинарных данных*\n",
        "\n"
      ]
    },
    {
      "cell_type": "code",
      "metadata": {
        "id": "M6PqvL9Ud1wp",
        "colab_type": "code",
        "colab": {}
      },
      "source": [
        "def check_and_fix_error(encoded_block):\n",
        "    \"\"\"\n",
        "    Check and fix errors in the binary data block\n",
        "    \"\"\"\n",
        "    check_bits_encoded = get_check_bits(encoded_block)\n",
        "    check_item = exclude_check_bits(encoded_block)\n",
        "    check_item = set_check_bits(check_item)\n",
        "    check_bits = get_check_bits(check_item)\n",
        "    if check_bits_encoded != check_bits:\n",
        "        invalid_bits = []\n",
        "        for check_bit_encoded, value in check_bits_encoded.items():\n",
        "          if check_bits[check_bit_encoded] != value:\n",
        "                invalid_bits.append(check_bit_encoded)\n",
        "        num_bit = sum(invalid_bits)\n",
        "        encoded_block = '{0}{1}{2}'.format(\n",
        "            encoded_block[:num_bit - 1],\n",
        "            int(encoded_block[num_bit - 1]) ^ 1,\n",
        "            encoded_block[num_bit:])\n",
        "    return encoded_block"
      ],
      "execution_count": 0,
      "outputs": []
    },
    {
      "cell_type": "markdown",
      "metadata": {
        "id": "5JqXil_Efzoc",
        "colab_type": "text"
      },
      "source": [
        "***Get a list of indices of distinct bits***\n",
        "\n",
        "> *Получить список индексов различающихся битов*\n",
        "\n",
        "\n",
        "\n"
      ]
    },
    {
      "cell_type": "code",
      "metadata": {
        "id": "EnKIlYdxfyiR",
        "colab_type": "code",
        "colab": {}
      },
      "source": [
        "def get_diff_index_list(value_bin1, value_bin2):\n",
        "    \"\"\"\n",
        "    Get a list of indices of distinct bits\n",
        "    \"\"\"\n",
        "    diff_index_list = []\n",
        "    for index, char_bin_items in enumerate(zip(list(value_bin1), list(value_bin2)), 1):\n",
        "        if char_bin_items[0] != char_bin_items[1]:\n",
        "            diff_index_list.append(index)\n",
        "    return diff_index_list"
      ],
      "execution_count": 0,
      "outputs": []
    },
    {
      "cell_type": "markdown",
      "metadata": {
        "id": "WD3juXQtg3OE",
        "colab_type": "text"
      },
      "source": [
        "***Encode data***\n",
        "\n",
        "> *Кодирование данных*\n",
        "\n"
      ]
    },
    {
      "cell_type": "code",
      "metadata": {
        "id": "dXqejz_egxWm",
        "colab_type": "code",
        "colab": {}
      },
      "source": [
        "def encode(source):\n",
        "    \"\"\"\n",
        "    Encode data\n",
        "    \"\"\"\n",
        "    text_bin = chars_to_bin(source)\n",
        "    result = ''\n",
        "    for block_bin in block_iterator(text_bin):\n",
        "        block_bin = set_check_bits(block_bin)\n",
        "        result += block_bin\n",
        "    return result"
      ],
      "execution_count": 0,
      "outputs": []
    },
    {
      "cell_type": "markdown",
      "metadata": {
        "id": "hOn86bw9hNnX",
        "colab_type": "text"
      },
      "source": [
        "***Decoding data***\n",
        "\n",
        "> *Декодирование данных*\n",
        "\n"
      ]
    },
    {
      "cell_type": "code",
      "metadata": {
        "id": "gyVo843hg2bI",
        "colab_type": "code",
        "colab": {}
      },
      "source": [
        "def decode(encoded, fix_errors=True):\n",
        "    \"\"\"\n",
        "    Decoding data\n",
        "    \"\"\"\n",
        "    decoded_value = ''\n",
        "    fixed_encoded_list = []\n",
        "    for encoded_block in block_iterator(encoded, BLOCK_LENGTH + len(CHECK_BITS)):\n",
        "        if fix_errors:\n",
        "            encoded_block = check_and_fix_error(encoded_block)\n",
        "        fixed_encoded_list.append(encoded_block)\n",
        "\n",
        "    clean_block_list = []\n",
        "    for encoded_block in fixed_encoded_list:\n",
        "        encoded_block = exclude_check_bits(encoded_block)\n",
        "        clean_block_list.append(encoded_block)\n",
        "\n",
        "    for clean_block in clean_block_list:\n",
        "        for clean_char in [clean_block[i:i + 8] for i in range(len(clean_block)) if not i % 8]:\n",
        "            decoded_value += chr(int(clean_char, 2))\n",
        "    return decoded_value"
      ],
      "execution_count": 0,
      "outputs": []
    },
    {
      "cell_type": "code",
      "metadata": {
        "id": "h1bldlz7hzNH",
        "colab_type": "code",
        "colab": {
          "base_uri": "https://localhost:8080/",
          "height": 210
        },
        "outputId": "8ea6ce32-ce1e-43ee-973d-19654b96c8db"
      },
      "source": [
        "if __name__ == '__main__':\n",
        "    source = input('Укажите текст для кодирования/декодирования:')\n",
        "    print('Длина блока кодирования: {0}'.format(BLOCK_LENGTH))\n",
        "    print('Контрольные биты: {0}'.format(CHECK_BITS))\n",
        "    encoded = encode(source)\n",
        "    print('Закодированные данные: {0}'.format(encoded))\n",
        "    decoded = decode(encoded)\n",
        "    print('Результат декодирования: {0}'.format(decoded))\n",
        "    encoded_with_error = set_errors(encoded)\n",
        "    print('Допускаем ошибки в закодированных данных: {0}'.format(encoded_with_error))\n",
        "    diff_index_list = get_diff_index_list(encoded, encoded_with_error)\n",
        "    print('Допущены ошибки в битах: {0}'.format(diff_index_list))\n",
        "    decoded = decode(encoded_with_error, fix_errors=False)\n",
        "    print('Результат декодирования ошибочных данных без исправления ошибок: {0}'.format(decoded))\n",
        "    decoded = decode(encoded_with_error)\n",
        "    print('Результат декодирования ошибочных данных с исправлением ошибок: {0}'.format(decoded))"
      ],
      "execution_count": 16,
      "outputs": [
        {
          "output_type": "stream",
          "text": [
            "Укажите текст для кодирования/декодирования:I saw you in Paris last summer\n",
            "Длина блока кодирования: 8\n",
            "Контрольные биты: [1, 2, 4, 8]\n",
            "Закодированные данные: 000010001001010101000000110011100011110111010001100011110111010101000000100011101001110111001111010011100101010101000000010111001001110011011110010101000000010010100000110111010001110111110010010111001001110011100011010101000000000011001100110111010001110011100011010111110100010101000000110011100011010011100101000111011101000111011101100111000101110111110010\n",
            "Результат декодирования: I saw you in Paris last summer\n",
            "Допускаем ошибки в закодированных данных: 000010001011010001000000100011100011010111010001100001110111010101000100100011001001110111001101010011100100010101001000010111011001110011111110010101000001000010100000110110010001110110110010000111001001110011100001010100000000001011001100110111110001110011100111011111110100110101000000110011101011010010100101000111001101001111011101100110000101010111110010\n",
            "Допущены ошибки в битах: [11, 16, 26, 37, 53, 70, 79, 95, 108, 117, 128, 139, 156, 158, 174, 186, 194, 215, 222, 231, 247, 262, 267, 277, 297, 306, 320, 327, 342, 349]\n",
            "Результат декодирования ошибочных данных без исправления ошибок: K sa7$imt(i~!PARiq\u0000ìqwô {UmíEr\n",
            "Результат декодирования ошибочных данных с исправлением ошибок: I saw you in Paris last summer\n"
          ],
          "name": "stdout"
        }
      ]
    },
    {
      "cell_type": "code",
      "metadata": {
        "id": "ogoLd4PHh9-F",
        "colab_type": "code",
        "colab": {}
      },
      "source": [
        ""
      ],
      "execution_count": 0,
      "outputs": []
    }
  ]
}