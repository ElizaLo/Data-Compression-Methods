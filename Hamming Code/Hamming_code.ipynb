{
  "nbformat": 4,
  "nbformat_minor": 0,
  "metadata": {
    "colab": {
      "name": "Hamming_code.ipynb",
      "version": "0.3.2",
      "provenance": [],
      "include_colab_link": true
    },
    "kernelspec": {
      "name": "python3",
      "display_name": "Python 3"
    }
  },
  "cells": [
    {
      "cell_type": "markdown",
      "metadata": {
        "id": "view-in-github",
        "colab_type": "text"
      },
      "source": [
        "<a href=\"https://colab.research.google.com/github/ElizaLo/Encoding/blob/master/Hamming%20Code/Hamming_code.ipynb\" target=\"_parent\"><img src=\"https://colab.research.google.com/assets/colab-badge.svg\" alt=\"Open In Colab\"/></a>"
      ]
    },
    {
      "cell_type": "markdown",
      "metadata": {
        "id": "XETmhki5bLw0",
        "colab_type": "text"
      },
      "source": [
        "#Hamming code"
      ]
    },
    {
      "cell_type": "code",
      "metadata": {
        "id": "muTA7_lZanF4",
        "colab_type": "code",
        "colab": {}
      },
      "source": [
        "import random"
      ],
      "execution_count": 0,
      "outputs": []
    },
    {
      "cell_type": "code",
      "metadata": {
        "id": "N3Is2M0n9FZJ",
        "colab_type": "code",
        "colab": {}
      },
      "source": [
        "# coding block length\n",
        "BLOCK_LENGTH = 8\n",
        "\n",
        "# check block length\n",
        "assert not BLOCK_LENGTH % 8, 'Block length must be a multiple of 8'\n",
        "\n",
        "# calculation of check bits / error-correcting bits, (вычисление контрольных бит)\n",
        "CHECK_BITS = [i for i in range(1, BLOCK_LENGTH + 1) if not i & (i - 1)]"
      ],
      "execution_count": 0,
      "outputs": []
    },
    {
      "cell_type": "markdown",
      "metadata": {
        "id": "xE4TUG1wEX6M",
        "colab_type": "text"
      },
      "source": [
        "***Convert characters to binary format***\n",
        "\n"
      ]
    },
    {
      "cell_type": "code",
      "metadata": {
        "id": "I3mrLrm3CPbJ",
        "colab_type": "code",
        "colab": {}
      },
      "source": [
        "def chars_to_binary(chars):\n",
        "    \"\"\"\n",
        "    Convert characters to binary format\n",
        "    \"\"\"\n",
        "    assert not len(chars) * 8 % BLOCK_LENGTH, 'The length of the encoded data must be a multiple of the length of the coding block'\n",
        "    return ''.join([bin(ord(c))[2:].zfill(8) for c in chars])"
      ],
      "execution_count": 0,
      "outputs": []
    },
    {
      "cell_type": "markdown",
      "metadata": {
        "id": "LSGQVDKXGzcS",
        "colab_type": "text"
      },
      "source": [
        "***Block output of binary data (Поблочный вывод бинарных данных)***"
      ]
    },
    {
      "cell_type": "code",
      "metadata": {
        "id": "5Og5u7WLEDio",
        "colab_type": "code",
        "colab": {}
      },
      "source": [
        "def block_iterator(text_bin, block_size=BLOCK_LENGTH):\n",
        "    \"\"\"\n",
        "    Block output of binary data (Поблочный вывод бинарных данных)\n",
        "    \"\"\"\n",
        "    for i in range(len(text_bin)):\n",
        "        if not i % block_size:\n",
        "            yield text_bin[i:i + block_size]"
      ],
      "execution_count": 0,
      "outputs": []
    },
    {
      "cell_type": "markdown",
      "metadata": {
        "id": "q3jkSBWUJVyZ",
        "colab_type": "text"
      },
      "source": [
        "***Retrieving control (error-correcting) bit information from a binary data block***"
      ]
    },
    {
      "cell_type": "code",
      "metadata": {
        "id": "viajWXlJIJgv",
        "colab_type": "code",
        "colab": {}
      },
      "source": [
        "def get_check_bits_data(value_bin):\n",
        "    \"\"\"\n",
        "    Retrieving control bit / error-correcting bits information from a binary data block\n",
        "    \"\"\"\n",
        "    check_bits_count_map = {k: 0 for k in CHECK_BITS}\n",
        "    for index, value in enumerate(value_bin, 1):\n",
        "        if int(value):\n",
        "            bin_char_list = list(bin(index)[2:].zfill(8))\n",
        "            bin_char_list.reverse()\n",
        "            for degree in [2 ** int(i) for i, value in enumerate(bin_char_list) if int(value)]:\n",
        "                check_bits_count_map[degree] += 1\n",
        "    check_bits_value_map = {}\n",
        "    for check_bit, count in check_bits_count_map.items():\n",
        "        check_bits_value_map[check_bit] = 0 if not count % 2 else 1\n",
        "    return check_bits_value_map"
      ],
      "execution_count": 0,
      "outputs": []
    },
    {
      "cell_type": "markdown",
      "metadata": {
        "id": "1hdDNfo_L2aP",
        "colab_type": "text"
      },
      "source": [
        "***Add empty control (error-correcting) bits to binary block***"
      ]
    },
    {
      "cell_type": "code",
      "metadata": {
        "id": "-ycwq8J9JjVo",
        "colab_type": "code",
        "colab": {}
      },
      "source": [
        "def set_empty_check_bits(value_bin):\n",
        "    \"\"\"\n",
        "    Add empty control (error-correcting) bits to binary block\n",
        "    \"\"\"\n",
        "    for bit in CHECK_BITS:\n",
        "        value_bin = value_bin[:bit - 1] + '0' + value_bin[bit - 1:]\n",
        "    return value_bin"
      ],
      "execution_count": 0,
      "outputs": []
    },
    {
      "cell_type": "code",
      "metadata": {
        "id": "HU9qqx_HMPGT",
        "colab_type": "code",
        "colab": {}
      },
      "source": [
        ""
      ],
      "execution_count": 0,
      "outputs": []
    }
  ]
}