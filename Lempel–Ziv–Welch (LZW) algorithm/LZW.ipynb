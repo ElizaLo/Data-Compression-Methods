{
  "nbformat": 4,
  "nbformat_minor": 0,
  "metadata": {
    "colab": {
      "name": "LZW.ipynb",
      "version": "0.3.2",
      "provenance": [],
      "include_colab_link": true
    },
    "kernelspec": {
      "name": "python3",
      "display_name": "Python 3"
    }
  },
  "cells": [
    {
      "cell_type": "markdown",
      "metadata": {
        "id": "view-in-github",
        "colab_type": "text"
      },
      "source": [
        "<a href=\"https://colab.research.google.com/github/ElizaLo/Encoding/blob/master/Lempel%E2%80%93Ziv%E2%80%93Welch%20(LZW)%20algorithm/LZW.ipynb\" target=\"_parent\"><img src=\"https://colab.research.google.com/assets/colab-badge.svg\" alt=\"Open In Colab\"/></a>"
      ]
    },
    {
      "cell_type": "markdown",
      "metadata": {
        "id": "L0krKLYN646-",
        "colab_type": "text"
      },
      "source": [
        "# Lempel–Ziv–Welch algorithm"
      ]
    },
    {
      "cell_type": "markdown",
      "metadata": {
        "id": "LChZ3DOY7Fso",
        "colab_type": "text"
      },
      "source": [
        "***Compression***\n"
      ]
    },
    {
      "cell_type": "code",
      "metadata": {
        "id": "-McF_o6N6vB4",
        "colab_type": "code",
        "colab": {}
      },
      "source": [
        "def compress(uncompressed):\n",
        "    \"\"\"\n",
        "    Compress a string to a list of output symbols.\n",
        "    \"\"\"\n",
        " \n",
        "    # Build the dictionary.\n",
        "    dict_size = 256\n",
        "    dictionary = dict((chr(i), i) for i in range(dict_size))\n",
        "    # in Python 3: dictionary = {chr(i): i for i in range(dict_size)}\n",
        " \n",
        "    w = \"\"\n",
        "    result = []\n",
        "    for c in uncompressed:\n",
        "        wc = w + c\n",
        "        if wc in dictionary:\n",
        "            w = wc\n",
        "        else:\n",
        "            result.append(dictionary[w])\n",
        "            # Add wc to the dictionary.\n",
        "            dictionary[wc] = dict_size\n",
        "            dict_size += 1\n",
        "            w = c\n",
        " \n",
        "    # Output the code for w.\n",
        "    if w:\n",
        "        result.append(dictionary[w])\n",
        "    return result"
      ],
      "execution_count": 0,
      "outputs": []
    },
    {
      "cell_type": "markdown",
      "metadata": {
        "id": "ArRWU1rG7kla",
        "colab_type": "text"
      },
      "source": [
        "***Decompression***\n"
      ]
    },
    {
      "cell_type": "code",
      "metadata": {
        "id": "U7uhf0e-7abd",
        "colab_type": "code",
        "colab": {}
      },
      "source": [
        "def decompress(compressed):\n",
        "    \"\"\"\n",
        "    Decompress a list of output ks to a string.\n",
        "    \"\"\"\n",
        " \n",
        "    # Build the dictionary.\n",
        "    dict_size = 256\n",
        "    dictionary = dict((i, chr(i)) for i in range(dict_size))\n",
        "    # in Python 3: dictionary = {i: chr(i) for i in range(dict_size)}\n",
        " \n",
        "    # use StringIO, otherwise this becomes O(N^2)\n",
        "    # due to string concatenation in a loop\n",
        "    result = StringIO()\n",
        "    w = chr(compressed.pop(0))\n",
        "    result.write(w)\n",
        "    for k in compressed:\n",
        "        if k in dictionary:\n",
        "            entry = dictionary[k]\n",
        "        elif k == dict_size:\n",
        "            entry = w + w[0]\n",
        "        else:\n",
        "            raise ValueError('Bad compressed k: %s' % k)\n",
        "        result.write(entry)\n",
        " \n",
        "        # Add w+entry[0] to the dictionary.\n",
        "        dictionary[dict_size] = w + entry[0]\n",
        "        dict_size += 1\n",
        " \n",
        "        w = entry\n",
        "    return result.getvalue()"
      ],
      "execution_count": 0,
      "outputs": []
    },
    {
      "cell_type": "code",
      "metadata": {
        "id": "SivfAZY08C0D",
        "colab_type": "code",
        "colab": {
          "base_uri": "https://localhost:8080/",
          "height": 159
        },
        "outputId": "18736bc8-514a-4f53-eae1-d35652c52a0e"
      },
      "source": [
        "s = input('Specify text for compression and decompresiion using Lempel–Ziv–Welch algorithm: \\n')\n",
        "compressed = compress(s)\n",
        "print (\"\\nCompressed data: \",compressed)\n",
        "decompressed = decompress(compressed)\n",
        "print (\"\\nDecompressed data: \",decompressed)"
      ],
      "execution_count": 16,
      "outputs": [
        {
          "output_type": "stream",
          "text": [
            "Specify text for compression and decompresiion using Lempel–Ziv–Welch algorithm: \n",
            "Don Vito Corleone: I'm gonna make him an offer he can't refuse\n",
            "\n",
            "Compressed data:  [68, 111, 110, 32, 86, 105, 116, 111, 32, 67, 111, 114, 108, 101, 257, 101, 58, 32, 73, 39, 109, 32, 103, 257, 110, 97, 32, 109, 97, 107, 101, 32, 104, 105, 276, 97, 258, 111, 102, 102, 101, 114, 287, 286, 99, 291, 39, 116, 32, 114, 101, 102, 117, 115, 101]\n",
            "\n",
            "Decompressed data:  Don Vito Corleone: I'm gonna make him an offer he can't refuse\n"
          ],
          "name": "stdout"
        }
      ]
    }
  ]
}