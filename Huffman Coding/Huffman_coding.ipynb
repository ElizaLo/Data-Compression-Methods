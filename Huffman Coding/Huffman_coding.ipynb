{
  "nbformat": 4,
  "nbformat_minor": 0,
  "metadata": {
    "colab": {
      "name": "Huffman coding.ipynb",
      "version": "0.3.2",
      "provenance": [],
      "include_colab_link": true
    },
    "kernelspec": {
      "name": "python3",
      "display_name": "Python 3"
    },
    "accelerator": "TPU"
  },
  "cells": [
    {
      "cell_type": "markdown",
      "metadata": {
        "id": "view-in-github",
        "colab_type": "text"
      },
      "source": [
        "<a href=\"https://colab.research.google.com/github/ElizaLo/Encoding/blob/master/Huffman%20Coding/Huffman_coding.ipynb\" target=\"_parent\"><img src=\"https://colab.research.google.com/assets/colab-badge.svg\" alt=\"Open In Colab\"/></a>"
      ]
    },
    {
      "cell_type": "markdown",
      "metadata": {
        "id": "FRT_HPF7P4XU",
        "colab_type": "text"
      },
      "source": [
        ""
      ]
    },
    {
      "cell_type": "code",
      "metadata": {
        "id": "NI8DSSNOWoRq",
        "colab_type": "code",
        "colab": {}
      },
      "source": [
        "def huffman_encode(s):\n",
        "  return {ch: ch for ch in s} # кодирует сам в себя (отображает каждый символ в соответствующий ему код)"
      ],
      "execution_count": 0,
      "outputs": []
    },
    {
      "cell_type": "code",
      "metadata": {
        "id": "U4OIjmqqP2f7",
        "colab_type": "code",
        "outputId": "97d6f392-f233-4fe3-8423-0e527019ffb4",
        "colab": {
          "base_uri": "https://localhost:8080/",
          "height": 272
        }
      },
      "source": [
        "def main():\n",
        "  s = input()\n",
        "  code = huffman_encode(s)\n",
        "  # закодированная версия строки s \n",
        "  # отображает каждый симвом в соответствующий ему код\n",
        "  encoded = \"\".join(code[ch] for ch in s)\n",
        "  # len(code) - количество различных символов в строке s, словарь\n",
        "  # len(encoded) - длина закодированной строки\n",
        "  print(\"Dictionary =\", len(code), \"\\nLength of string =\", len(encoded))\n",
        "  # описываем как мы кодируем каждый символ\n",
        "  for ch in sorted(code):\n",
        "    print(\"{}: {}\".format(ch, code[ch]))\n",
        "  print(encoded) # закодированная строка\n",
        "  \n",
        "  \n",
        "if __name__ == \"__main__\":\n",
        "  main()"
      ],
      "execution_count": 0,
      "outputs": [
        {
          "output_type": "stream",
          "text": [
            "gjjfjfnbfhbrbgekla\n",
            "Dictionary = 11 \n",
            "Length of string = 18\n",
            "a: a\n",
            "b: b\n",
            "e: e\n",
            "f: f\n",
            "g: g\n",
            "h: h\n",
            "j: j\n",
            "k: k\n",
            "l: l\n",
            "n: n\n",
            "r: r\n",
            "gjjfjfnbfhbrbgekla\n"
          ],
          "name": "stdout"
        }
      ]
    },
    {
      "cell_type": "markdown",
      "metadata": {
        "id": "r-SSsW9mr-Vg",
        "colab_type": "text"
      },
      "source": [
        "# **Second Solution**"
      ]
    },
    {
      "cell_type": "code",
      "metadata": {
        "id": "xMnzMbJSxib-",
        "colab_type": "code",
        "colab": {}
      },
      "source": [
        "import heapq\n",
        "from collections import Counter"
      ],
      "execution_count": 0,
      "outputs": []
    },
    {
      "cell_type": "code",
      "metadata": {
        "id": "bDtSRO7Mr9Gp",
        "colab_type": "code",
        "colab": {}
      },
      "source": [
        "def huffman_encode(s):\n",
        "  h = [(freq, ch) for ch, freq in Counter(s).items()]\n",
        "  heapq.heapify\n",
        "  Counter(s) #сколько раз встречается каждый символ\n",
        "  code = {} # пустой словарь\n",
        "  return code"
      ],
      "execution_count": 0,
      "outputs": []
    },
    {
      "cell_type": "code",
      "metadata": {
        "id": "WfvJsJwpr4R3",
        "colab_type": "code",
        "colab": {}
      },
      "source": [
        "def main():\n",
        "  s = input()\n",
        "  code = huffman_encode(s)\n",
        "  # закодированная версия строки s \n",
        "  # отображает каждый симвом в соответствующий ему код\n",
        "  encoded = \"\".join(code[ch] for ch in s)\n",
        "  # len(code) - количество различных символов в строке s, словарь\n",
        "  # len(encoded) - длина закодированной строки\n",
        "  print(\"Dictionary =\", len(code), \"\\nLength of string =\", len(encoded))\n",
        "  # описываем как мы кодируем каждый символ\n",
        "  for ch in sorted(code):\n",
        "    print(\"{}: {}\".format(ch, code[ch]))\n",
        "  print(encoded) # закодированная строка\n",
        "  \n",
        "  \n",
        "if __name__ == \"__main__\":\n",
        "  main()"
      ],
      "execution_count": 0,
      "outputs": []
    }
  ]
}