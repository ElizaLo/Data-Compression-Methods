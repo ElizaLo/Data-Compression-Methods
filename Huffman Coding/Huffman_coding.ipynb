{
  "nbformat": 4,
  "nbformat_minor": 0,
  "metadata": {
    "colab": {
      "name": "Huffman coding.ipynb",
      "version": "0.3.2",
      "provenance": [],
      "include_colab_link": true
    },
    "kernelspec": {
      "name": "python3",
      "display_name": "Python 3"
    },
    "accelerator": "TPU"
  },
  "cells": [
    {
      "cell_type": "markdown",
      "metadata": {
        "id": "view-in-github",
        "colab_type": "text"
      },
      "source": [
        "<a href=\"https://colab.research.google.com/github/ElizaLo/Encoding/blob/master/Huffman%20Coding/Huffman_coding.ipynb\" target=\"_parent\"><img src=\"https://colab.research.google.com/assets/colab-badge.svg\" alt=\"Open In Colab\"/></a>"
      ]
    },
    {
      "cell_type": "markdown",
      "metadata": {
        "id": "FRT_HPF7P4XU",
        "colab_type": "text"
      },
      "source": [
        "# Huffman Coding"
      ]
    },
    {
      "cell_type": "markdown",
      "metadata": {
        "id": "6pIIXJJhJwdT",
        "colab_type": "text"
      },
      "source": [
        "## First simple solution"
      ]
    },
    {
      "cell_type": "code",
      "metadata": {
        "id": "NI8DSSNOWoRq",
        "colab_type": "code",
        "colab": {}
      },
      "source": [
        "def huffman_encode(s):\n",
        "  return {ch: ch for ch in s} # кодирует сам в себя (отображает каждый символ в соответствующий ему код)"
      ],
      "execution_count": 0,
      "outputs": []
    },
    {
      "cell_type": "code",
      "metadata": {
        "id": "U4OIjmqqP2f7",
        "colab_type": "code",
        "outputId": "61041d92-9b8c-481b-9b08-1ec1e5fde449",
        "colab": {
          "base_uri": "https://localhost:8080/",
          "height": 204
        }
      },
      "source": [
        "def main():\n",
        "  s = input()\n",
        "  code = huffman_encode(s)\n",
        "  # закодированная версия строки s \n",
        "  # отображает каждый симвом в соответствующий ему код\n",
        "  encoded = \"\".join(code[ch] for ch in s)\n",
        "  # len(code) - количество различных символов в строке s, словарь\n",
        "  # len(encoded) - длина закодированной строки\n",
        "  print(\"\\nDictionary =\", len(code), \"\\nLength of string =\", len(encoded))\n",
        "  # описываем как мы кодируем каждый символ\n",
        "  print(\"\\n\")\n",
        "  for ch in sorted(code):\n",
        "    print(\"{}: {}\".format(ch, code[ch]))\n",
        "  print(\"\\n\", encoded) # закодированная строка\n",
        "  \n",
        "  \n",
        "if __name__ == \"__main__\":\n",
        "  main()"
      ],
      "execution_count": 34,
      "outputs": [
        {
          "output_type": "stream",
          "text": [
            "abcdabcd\n",
            "\n",
            "Dictionary = 4 \n",
            "Length of string = 8\n",
            "\n",
            "\n",
            "a: a\n",
            "b: b\n",
            "c: c\n",
            "d: d\n",
            "abcdabcd\n"
          ],
          "name": "stdout"
        }
      ]
    },
    {
      "cell_type": "markdown",
      "metadata": {
        "id": "r-SSsW9mr-Vg",
        "colab_type": "text"
      },
      "source": [
        "## **Second Solution**"
      ]
    },
    {
      "cell_type": "code",
      "metadata": {
        "id": "xMnzMbJSxib-",
        "colab_type": "code",
        "colab": {}
      },
      "source": [
        "import heapq\n",
        "from collections import Counter, namedtuple"
      ],
      "execution_count": 0,
      "outputs": []
    },
    {
      "cell_type": "code",
      "metadata": {
        "id": "Bn5Kot7VJ-gE",
        "colab_type": "code",
        "colab": {}
      },
      "source": [
        "class Node(namedtuple(\"Node\", [\"left\", \"right\"])):\n",
        "  def walk(self, code, acc): # code - префикс кода, который мы накопили спускаясь от корня к узлу/литу\n",
        "      self.left.walk(code, acc + \"0\")\n",
        "      self.right.walk(code, acc + \"1\")"
      ],
      "execution_count": 0,
      "outputs": []
    },
    {
      "cell_type": "code",
      "metadata": {
        "id": "R_5HbQrqPxpv",
        "colab_type": "code",
        "colab": {}
      },
      "source": [
        "class Leaf(namedtuple(\"Leaf\", [\"char\"])):\n",
        "  def walk(self, code, acc):\n",
        "      code[self.char] = acc or \"0\""
      ],
      "execution_count": 0,
      "outputs": []
    },
    {
      "cell_type": "code",
      "metadata": {
        "id": "bDtSRO7Mr9Gp",
        "colab_type": "code",
        "colab": {}
      },
      "source": [
        "def huffman_encode(s):\n",
        "  h = []\n",
        "  for ch, freq in Counter(s).items():\n",
        "      h.append((freq, len(h), Leaf(ch)))\n",
        "  \n",
        "  # h = [(freq, Leaf(ch)) for ch, freq in Counter(s).items()]\n",
        "  heapq.heapify(h)\n",
        "  \n",
        "  count = len(h)\n",
        "  while len(h) > 1: # пока в очереди есть элем\n",
        "    freq1, _count1, left = heapq.heappop(h) # достаём элем с минимальной частотой\n",
        "    freq2, _count2, right = heapq.heappop(h)\n",
        "    heapq.heappush(h, (freq1 + freq2, count, Node(left, right)))\n",
        "    count += 1\n",
        "    \n",
        "  code = {}  \n",
        "  if h:  \n",
        "    [(_freq, _count, root)] = h # корень дерева\n",
        "    root.walk(code,\"\")\n",
        "  \n",
        "  return code"
      ],
      "execution_count": 0,
      "outputs": []
    },
    {
      "cell_type": "code",
      "metadata": {
        "id": "WfvJsJwpr4R3",
        "colab_type": "code",
        "colab": {
          "base_uri": "https://localhost:8080/",
          "height": 340
        },
        "outputId": "e8013407-975f-41ee-84e1-aef991ba6a8b"
      },
      "source": [
        "def main():\n",
        "  s = input()\n",
        "  code = huffman_encode(s)\n",
        "  # закодированная версия строки s \n",
        "  # отображает каждый симвом в соответствующий ему код\n",
        "  encoded = \"\".join(code[ch] for ch in s)\n",
        "  # len(code) - количество различных символов в строке s, словарь\n",
        "  # len(encoded) - длина закодированной строки\n",
        "  print(\"\\nDictionary =\", len(code), \"\\nLength of string =\", len(encoded))\n",
        "  # описываем как мы кодируем каждый символ\n",
        "  print(\"\\n\")\n",
        "  for ch in sorted(code):\n",
        "    print(\"{}: {}\".format(ch, code[ch]))\n",
        "  print(\"\\n\",encoded) # закодированная строка\n",
        "  \n",
        "  \n",
        "if __name__ == \"__main__\":\n",
        "  main()"
      ],
      "execution_count": 18,
      "outputs": [
        {
          "output_type": "stream",
          "text": [
            "v;lm05951=mg;a\n",
            "\n",
            "Dictionary = 11 \n",
            "Length of string = 48\n",
            "\n",
            "\n",
            "0: 1100\n",
            "1: 1110\n",
            "5: 100\n",
            "9: 1101\n",
            ";: 010\n",
            "=: 1111\n",
            "a: 001\n",
            "g: 000\n",
            "l: 1011\n",
            "m: 011\n",
            "v: 1010\n",
            "\n",
            " 101001010110111100100110110011101111011000010001\n"
          ],
          "name": "stdout"
        }
      ]
    }
  ]
}