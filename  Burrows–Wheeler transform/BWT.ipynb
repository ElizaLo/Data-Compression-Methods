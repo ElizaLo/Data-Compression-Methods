{
  "nbformat": 4,
  "nbformat_minor": 0,
  "metadata": {
    "colab": {
      "name": "BWT.ipynb",
      "version": "0.3.2",
      "provenance": [],
      "include_colab_link": true
    },
    "kernelspec": {
      "name": "python3",
      "display_name": "Python 3"
    }
  },
  "cells": [
    {
      "cell_type": "markdown",
      "metadata": {
        "id": "view-in-github",
        "colab_type": "text"
      },
      "source": [
        "<a href=\"https://colab.research.google.com/github/ElizaLo/Encoding/blob/master/%20Burrows%E2%80%93Wheeler%20transform/BWT.ipynb\" target=\"_parent\"><img src=\"https://colab.research.google.com/assets/colab-badge.svg\" alt=\"Open In Colab\"/></a>"
      ]
    },
    {
      "cell_type": "markdown",
      "metadata": {
        "id": "dmL3pfh1MtkY",
        "colab_type": "text"
      },
      "source": [
        "# Burrows–Wheeler transform"
      ]
    },
    {
      "cell_type": "code",
      "metadata": {
        "id": "Q0MaTkiPMab8",
        "colab_type": "code",
        "colab": {}
      },
      "source": [
        "import argparse\n",
        "from operator import itemgetter"
      ],
      "execution_count": 0,
      "outputs": []
    },
    {
      "cell_type": "markdown",
      "metadata": {
        "id": "IcmTUH0SNLeu",
        "colab_type": "text"
      },
      "source": [
        "***Transformation***"
      ]
    },
    {
      "cell_type": "code",
      "metadata": {
        "id": "FECEP_j3M916",
        "colab_type": "code",
        "colab": {}
      },
      "source": [
        "def bw_transform(s):\n",
        "    n = len(s)\n",
        "    m = sorted([s[i:n]+s[0:i] for i in range(n)])\n",
        "    I = m.index(s)\n",
        "    L = ''.join([q[-1] for q in m])\n",
        "    return (I, L)"
      ],
      "execution_count": 0,
      "outputs": []
    },
    {
      "cell_type": "markdown",
      "metadata": {
        "id": "mMTtgD2JNPLd",
        "colab_type": "text"
      },
      "source": [
        "***Restoring***"
      ]
    },
    {
      "cell_type": "code",
      "metadata": {
        "id": "duPMUPHFNCUr",
        "colab_type": "code",
        "colab": {}
      },
      "source": [
        "def bw_restore(I, L):\n",
        "    n = len(L)\n",
        "    X = sorted([(i, x) for i, x in enumerate(L)], key=itemgetter(1))\n",
        "\n",
        "    T = [None for i in range(n)]\n",
        "    for i, y in enumerate(X):\n",
        "        j, _ = y\n",
        "        T[j] = i\n",
        "\n",
        "    Tx = [I]\n",
        "    for i in range(1, n):\n",
        "        Tx.append(T[Tx[i-1]])\n",
        "\n",
        "    S = [L[i] for i in Tx]\n",
        "    S.reverse()\n",
        "    return ''.join(S)"
      ],
      "execution_count": 0,
      "outputs": []
    },
    {
      "cell_type": "code",
      "metadata": {
        "id": "r1pS1FNHNGM0",
        "colab_type": "code",
        "colab": {
          "base_uri": "https://localhost:8080/",
          "height": 181
        },
        "outputId": "ea8a4cd3-42e5-40fc-80dc-a1b916b0f41e"
      },
      "source": [
        "if __name__ == \"__main__\":\n",
        "    parser = argparse.ArgumentParser(\n",
        "        description='Transforms strings using Burrows-Wheeler transform')\n",
        "    parser.add_argument('-i', '--index', metavar=\"INDEX\", help='Performs ' +\n",
        "        'inverse BWT. A transform index must be specified as an INDEX value.')\n",
        "    parser.add_argument('STRING', type=str, help='Transform this string.')\n",
        "    args = parser.parse_args()\n",
        "\n",
        "    if args.index:\n",
        "        print(bw_restore(args.index, args.STRING))\n",
        "    else:\n",
        "        print(\"%d %s\" % bw_transform(args.STRING))"
      ],
      "execution_count": 4,
      "outputs": [
        {
          "output_type": "stream",
          "text": [
            "usage: ipykernel_launcher.py [-h] [-i INDEX] STRING\n",
            "ipykernel_launcher.py: error: unrecognized arguments: -f\n"
          ],
          "name": "stderr"
        },
        {
          "output_type": "error",
          "ename": "SystemExit",
          "evalue": "ignored",
          "traceback": [
            "An exception has occurred, use %tb to see the full traceback.\n",
            "\u001b[0;31mSystemExit\u001b[0m\u001b[0;31m:\u001b[0m 2\n"
          ]
        },
        {
          "output_type": "stream",
          "text": [
            "/usr/local/lib/python3.6/dist-packages/IPython/core/interactiveshell.py:2890: UserWarning: To exit: use 'exit', 'quit', or Ctrl-D.\n",
            "  warn(\"To exit: use 'exit', 'quit', or Ctrl-D.\", stacklevel=1)\n"
          ],
          "name": "stderr"
        }
      ]
    }
  ]
}